{
  "nbformat": 4,
  "nbformat_minor": 0,
  "metadata": {
    "colab": {
      "provenance": []
    },
    "kernelspec": {
      "name": "python3",
      "display_name": "Python 3"
    },
    "language_info": {
      "name": "python"
    }
  },
  "cells": [
    {
      "cell_type": "code",
      "source": [
        "# Kasus 1 Data kendaraan Darat: Jarak dalam meter, Waktu dalam detik\n",
        "Kendaraan = {\n",
        "    \"Mobil A\" : {\"Jarak\" : 2000, \"Waktu\": 90},\n",
        "    \"Motor B\" : {\"Jarak\" : 1500, \"Waktu\": 50},\n",
        "    \"Sepedah C\" : {\"Jarak\" : 800, \"Waktu\": 40}\n",
        "}\n",
        "\n",
        "# Menghitung kecepatan masing-masing kendaraan\n",
        "print(\"Kecepatan masing-masing kendaraan:\")\n",
        "Kecepatan_tertinggi = 0\n",
        "Kendaraan_tercepat = \"\"\n",
        "\n",
        "for Nama, Data in Kendaraan.items():\n",
        "  Kecepatan = Data [\"Jarak\"] / Data [\"Waktu\"] # meter per detik\n",
        "  Kendaraan[Nama][\"Kecepatan\"] = Kecepatan\n",
        "  print(f\"{Nama}: {Kecepatan:.2f} m/s\")\n",
        "\n",
        "  # Cek apakah ini kecepatan tertinggi\n",
        "  if Kecepatan > Kecepatan_tertinggi:\n",
        "      Kecepatan_tertinggi = Kecepatan\n",
        "      Kendaraan_tercepat = Nama\n",
        "\n",
        "\n",
        "# Menampilkan kendaraan dengan kecepatan tertinggi\n",
        "print(f\"\\nKendaraan dengan kecepatan tertinggi adalah {Kendaraan_tercepat} dengan kecepatan {Kecepatan_tertinggi:.2f} m/s\")"
      ],
      "metadata": {
        "id": "fMyItyl7SfDB",
        "colab": {
          "base_uri": "https://localhost:8080/"
        },
        "outputId": "ce8312db-cc6a-40ad-cae5-5b6cc671f4b4"
      },
      "execution_count": null,
      "outputs": [
        {
          "output_type": "stream",
          "name": "stdout",
          "text": [
            "Kecepatan masing-masing kendaraan:\n",
            "Mobil A: 22.22 m/s\n",
            "Motor B: 30.00 m/s\n",
            "Sepedah C: 20.00 m/s\n",
            "\n",
            "Kendaraan dengan kecepatan tertinggi adalah Motor B dengan kecepatan 30.00 m/s\n"
          ]
        }
      ]
    },
    {
      "cell_type": "code",
      "source": [
        "# Kasus 2 Data pelari : Jarak dalam meter, Waktu dalam detik\n",
        "Pelari = {\n",
        "    \"Pelari 1\": {\"Jarak\": 400, \"Waktu\": 50},\n",
        "    \"Pelari 2\": {\"Jarak\": 800, \"Waktu\": 120},\n",
        "    \"Pelari 3\": {\"Jarak\": 100, \"Waktu\": 11}\n",
        "}\n",
        "\n",
        "# Menghitung Kecepatan Masing-masing pelari\n",
        "print(\"Kecepatan masing-masing Pelari\")\n",
        "Kecepatan_tertinggi = 0\n",
        "Kecepatan_tercepat = \"\"\n",
        "\n",
        "for Nama, Data in Pelari.items():\n",
        "  Kecepatan = Data [\"Jarak\"] / Data [\"Waktu\"] # meter per detik\n",
        "  Pelari[Nama][\"Kecepatan\"] = Kecepatan\n",
        "  print(f\"{Nama}: {Kecepatan:.2f} m/s\")\n",
        "\n",
        "  # Cek apakah ini kecepatan tertinggi\n",
        "  if Kecepatan > Kecepatan_tertinggi:\n",
        "      Kecepatan_tertinggi = Kecepatan\n",
        "      Kecepatan_tercepat = Nama\n",
        "\n",
        "# Menampilkan Pelari dengan Kecepatan tercepat\n",
        "print(f\"\\nPelari dengan kecepatan tertinggi adalah {Kecepatan_tercepat} dengan kecepatan {Kecepatan_tertinggi:.2f} m/s\")"
      ],
      "metadata": {
        "colab": {
          "base_uri": "https://localhost:8080/"
        },
        "id": "l-wVdLODOKgM",
        "outputId": "fefeceb7-01d5-4232-a93d-9099ab7eb8b3"
      },
      "execution_count": null,
      "outputs": [
        {
          "output_type": "stream",
          "name": "stdout",
          "text": [
            "Kecepatan masing-masing Pelari\n",
            "Pelari 1: 8.00 m/s\n",
            "Pelari 2: 6.67 m/s\n",
            "Pelari 3: 9.09 m/s\n",
            "\n",
            "Pelari dengan kecepatan tertinggi adalah Pelari 3 dengan kecepatan 9.09 m/s\n"
          ]
        }
      ]
    },
    {
      "cell_type": "code",
      "source": [
        "# Kasus 3 Data Transportasi Umum: Jarak dalam meter, Waktu dalam detik\n",
        "Transportasi_umum = {\n",
        "    \"Kereta\": {\"Jarak\": 5000, \"Waktu\": 180},\n",
        "    \"Bus\": {\"Jarak\": 3000, \"Waktu\": 120},\n",
        "    \"Truk\": {\"Jarak\": 2500, \"Waktu\": 120}\n",
        "\n",
        "}\n",
        "\n",
        "# Menghitung masing-masing Kecepatan Transportasi Umum\n",
        "print(\"Kecepatan masing-masing Transportasi Umum\")\n",
        "Kecepatan_tertinggi = 0\n",
        "Kecepatan_tercepat = \"\"\n",
        "\n",
        "for Nama, Data in Transportasi_umum.items():\n",
        "  Kecepatan = Data [\"Jarak\"] / Data [\"Waktu\"] # meter per detik\n",
        "  Transportasi_umum[Nama][\"Kecepatan\"] = Kecepatan\n",
        "  print(f\"{Nama}: {Kecepatan:.2f} m/s\")\n",
        "\n",
        "  # Cek apakah ini kecepatan tertinggi\n",
        "  if Kecepatan > Kecepatan_tertinggi:\n",
        "      Kecepatan_tertinggi = Kecepatan\n",
        "      Kecepatan_tercepat = Nama\n",
        "\n",
        "# Menampilkan Transportasi Umum dengan Kecepatan tercepat\n",
        "print(f\"\\nTransportasi Umum dengan kecepatan tertinggi adalah {Kecepatan_tercepat} dengan kecepatan {Kecepatan_tertinggi:.2f} m/s\")"
      ],
      "metadata": {
        "colab": {
          "base_uri": "https://localhost:8080/"
        },
        "id": "yXzU1lr7RBKr",
        "outputId": "9fd62fc6-6be7-420b-966a-431417ee0ab5"
      },
      "execution_count": null,
      "outputs": [
        {
          "output_type": "stream",
          "name": "stdout",
          "text": [
            "Kecepatan masing-masing Transportasi Umum\n",
            "Kereta: 27.78 m/s\n",
            "Bus: 25.00 m/s\n",
            "Truk: 20.83 m/s\n",
            "\n",
            "Transportasi Umum dengan kecepatan tertinggi adalah Kereta dengan kecepatan 27.78 m/s\n"
          ]
        }
      ]
    },
    {
      "cell_type": "code",
      "source": [
        "# Kasus 4 Data Objek : Jarak dalam meter, Waktu dalam detik\n",
        "Objek = {\n",
        "    \"Drone\": {\"Jarak\": 1200, \"Waktu\": 60},\n",
        "    \"Kapal cepat\": {\"Jarak\": 5000, \"Waktu\": 300},\n",
        "    \"Pemain sepak bola\": {\"Jarak\": 60, \"Waktu\": 7}\n",
        "\n",
        "}\n",
        "\n",
        "# Menghitung masing-masing Kecepatan Objek\n",
        "print(\"Kecepatan masing-masing Objek\")\n",
        "Kecepatan_tertinggi = 0\n",
        "Kecepatan_tercepat = \"\"\n",
        "\n",
        "for Nama, Data in Objek.items():\n",
        "  Kecepatan = Data [\"Jarak\"] / Data [\"Waktu\"] # meter per detik\n",
        "  Objek[Nama][\"Kecepatan\"] = Kecepatan\n",
        "  print(f\"{Nama}: {Kecepatan:.2f} m/s\")\n",
        "\n",
        "  # Cek apakah ini Kecepatan tertinggi\n",
        "  if Kecepatan > Kecepatan_tertinggi:\n",
        "      Kecepatan_tertinggi = Kecepatan\n",
        "      Kecepatan_tercepat = Nama\n",
        "\n",
        "# Menampilkan Objek dengan Kecepatan tercepat\n",
        "print(f\"\\nObjek dengan kecepatan tertinggi adalah {Kecepatan_tercepat} dengan kecepatan {Kecepatan_tertinggi:.2f} m/s\")"
      ],
      "metadata": {
        "colab": {
          "base_uri": "https://localhost:8080/"
        },
        "id": "y11ZQoyCUR5D",
        "outputId": "50a6c8b2-6e92-41fd-8ab5-a19bfc699fec"
      },
      "execution_count": null,
      "outputs": [
        {
          "output_type": "stream",
          "name": "stdout",
          "text": [
            "Kecepatan masing-masing Objek\n",
            "Drone: 20.00 m/s\n",
            "Kapal cepat: 16.67 m/s\n",
            "Pemain sepak bola: 8.57 m/s\n",
            "\n",
            "Objek dengan kecepatan tertinggi adalah Drone dengan kecepatan 20.00 m/s\n"
          ]
        }
      ]
    }
  ]
}